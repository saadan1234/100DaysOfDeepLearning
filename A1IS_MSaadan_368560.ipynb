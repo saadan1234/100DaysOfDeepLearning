{
  "nbformat": 4,
  "nbformat_minor": 0,
  "metadata": {
    "colab": {
      "provenance": [],
      "authorship_tag": "ABX9TyPEqCAx1xNTbOuflF1N5n9n",
      "include_colab_link": true
    },
    "kernelspec": {
      "name": "python3",
      "display_name": "Python 3"
    },
    "language_info": {
      "name": "python"
    }
  },
  "cells": [
    {
      "cell_type": "markdown",
      "metadata": {
        "id": "view-in-github",
        "colab_type": "text"
      },
      "source": [
        "<a href=\"https://colab.research.google.com/github/saadan1234/100DaysOfDeepLearning/blob/main/A1IS_MSaadan_368560.ipynb\" target=\"_parent\"><img src=\"https://colab.research.google.com/assets/colab-badge.svg\" alt=\"Open In Colab\"/></a>"
      ]
    },
    {
      "cell_type": "markdown",
      "source": [
        "# Task 1"
      ],
      "metadata": {
        "id": "jfuquSGncp9T"
      }
    },
    {
      "cell_type": "code",
      "execution_count": null,
      "metadata": {
        "colab": {
          "base_uri": "https://localhost:8080/"
        },
        "id": "MsLbTlxscR6q",
        "outputId": "fb79c3b6-1c2c-4878-c4f9-cdaabfd4e9c4"
      },
      "outputs": [
        {
          "output_type": "stream",
          "name": "stdout",
          "text": [
            "Ciphertext: EOROROWSOMHYOLQXPOIRYLOYSEYRMISTHORZOYQGOAZLCEWGTIIRZRS\n",
            "Decrypted Message: EVENTHESTRONGESTENCRYPTIONCANBEUNDONEBYTHEFAINTESTERROR\n"
          ]
        }
      ],
      "source": [
        "import string\n",
        "\n",
        "def create_polybius_square():\n",
        "    # Manually defining the Polybius square as per the image\n",
        "    square = {\n",
        "        'B': (1, 1), 'G': (1, 2), 'W': (1, 3), 'K': (1, 4), 'Z': (1, 5),\n",
        "        'Q': (2, 1), 'P': (2, 2), 'N': (2, 3), 'D': (2, 4), 'S': (2, 5),\n",
        "        'I': (3, 1), 'O': (3, 2), 'A': (3, 3), 'X': (3, 4), 'E': (3, 5),\n",
        "        'F': (4, 1), 'C': (4, 2), 'L': (4, 3), 'U': (4, 4), 'M': (4, 5),\n",
        "        'T': (5, 1), 'H': (5, 2), 'Y': (5, 3), 'V': (5, 4), 'R': (5, 5)\n",
        "    }\n",
        "    return square  # Return the manually created Polybius square\n",
        "\n",
        "# Bifid cipher encryption function\n",
        "def bifid_encrypt(plaintext, polybius_square):\n",
        "\n",
        "    # Step 1: Convert the message to uppercase, and replace 'J' with 'I'\n",
        "    plaintext = plaintext.upper().replace('J', 'I')\n",
        "    # 'J' and 'I' share the same position in this square as there is only 25 positions.\n",
        "\n",
        "    # Step 2: Remove any non-alphabetical characters from the plaintext\n",
        "    plaintext = ''.join(filter(str.isalpha, plaintext))\n",
        "    # Filter out non-alphabetic characters, alternatively we can constraint the input prompt aswell.\n",
        "\n",
        "    row_coords, col_coords = [], []  # Lists to store the row and column coordinates of each letter\n",
        "\n",
        "    # Step 3: Convert each letter into its corresponding row and column coordinates\n",
        "    for char in plaintext:\n",
        "        row, col = polybius_square[char]  # Get the row and column for the current letter\n",
        "        row_coords.append(row)  # Store row coordinate\n",
        "        col_coords.append(col)  # Store column coordinate\n",
        "\n",
        "    # Step 4: Combine the row and column coordinates in the order required for Bifid cipher\n",
        "    coords = row_coords + col_coords  # Append column coordinates after row coordinates\n",
        "    ciphertext = \"\"\n",
        "\n",
        "    # Step 5: Take the combined coordinates and turn them back into letters\n",
        "    for i in range(0, len(coords), 2):\n",
        "        row, col = coords[i], coords[i + 1]  # Take the new row and column pairs\n",
        "        for letter, (r, c) in polybius_square.items():\n",
        "            if r == row and c == col:  # Find the letter corresponding to this row, column pair\n",
        "                ciphertext += letter  # Add the letter to the ciphertext\n",
        "                break  # Stop searching once the correct letter is found\n",
        "\n",
        "    return ciphertext  # Return the final encrypted message\n",
        "\n",
        "# Bifid cipher decryption function\n",
        "def bifid_decrypt(ciphertext, polybius_square):\n",
        "    # Step 1: Convert the ciphertext to uppercase (to match Polybius square format)\n",
        "    ciphertext = ciphertext.upper()\n",
        "    coords = []  # List to store the (row, col) pairs from the ciphertext\n",
        "\n",
        "    # Step 2: Convert each letter in the ciphertext to its corresponding row and column coordinates\n",
        "    for char in ciphertext:\n",
        "        row, col = polybius_square[char]  # Get the row and column for the current letter\n",
        "        coords.append(row)  # Append the coordinates as row and column separately\n",
        "        coords.append(col)\n",
        "\n",
        "    # Step 3: Split the coordinates back into row and column parts\n",
        "    half_len = len(coords) // 2  # Calculate the halfway point (since we need to split into rows and columns)\n",
        "\n",
        "    # The first half of the coordinates are row coordinates, and the second half are column coordinates\n",
        "    row_coords = [coords[i] for i in range(half_len)]  # Extract the row coordinates from the first half\n",
        "    col_coords = [coords[i] for i in range(half_len,len(coords))]  # Extract the column coordinates from the second half\n",
        "    plaintext = \"\"  # Initialize the plaintext string\n",
        "\n",
        "    # Step 4: Combine the row and column coordinates back into letters\n",
        "    for i in range(half_len):\n",
        "        row = row_coords[i]  # Get the corresponding row\n",
        "        col = col_coords[i]  # Get the corresponding column\n",
        "\n",
        "        # Step 5: Find the corresponding letter in the Polybius square using the (row, col) pair\n",
        "        for letter, (r, c) in polybius_square.items():\n",
        "            if r == row and c == col:  # Find the letter matching the (row, col) pair\n",
        "                plaintext += letter  # Append the letter to the plaintext\n",
        "                break  # Stop searching once the letter is found\n",
        "\n",
        "    return plaintext  # Return the final decrypted message\n",
        "\n",
        "# Example usage of the encryption function\n",
        "message = \"Even the strongest encryption can be undone by the faintest error\"\n",
        "polybius_square = create_polybius_square()  # Create the Polybius square\n",
        "ciphertext = bifid_encrypt(message, polybius_square)  # Encrypt the message using Bifid cipher\n",
        "print(f\"Ciphertext: {ciphertext}\")  # Print the resulting ciphertext\n",
        "\n",
        "# Example decryption usage\n",
        "decrypted_message = bifid_decrypt(ciphertext, polybius_square)  # Decrypt the ciphertext\n",
        "print(f\"Decrypted Message: {decrypted_message}\")  # Print the resulting plaintext message"
      ]
    },
    {
      "cell_type": "markdown",
      "source": [
        "# Part C"
      ],
      "metadata": {
        "id": "j6IdLHhmdNrT"
      }
    },
    {
      "cell_type": "code",
      "source": [
        "# Example usage of the encryption function\n",
        "message = \"Even the strongest encryption can be undone by the faintest error\"\n",
        "polybius_square = create_polybius_square()  # Create the Polybius square\n",
        "ciphertext = bifid_encrypt_case_insensitive(message, polybius_square)  # Encrypt the message using Bifid cipher\n",
        "print(f\"Ciphertext: {ciphertext}\")  # Print the resulting ciphertext\n",
        "\n",
        "# Example decryption usage\n",
        "decrypted_message = bifid_decrypt(ciphertext, polybius_square)  # Decrypt the ciphertext\n",
        "print(f\"Decrypted Message: {decrypted_message}\")  # Print the resulting plaintext message"
      ],
      "metadata": {
        "colab": {
          "base_uri": "https://localhost:8080/"
        },
        "id": "sOO-oczJs7zW",
        "outputId": "c79d9742-9f75-4982-f4eb-f200e335d1f6"
      },
      "execution_count": null,
      "outputs": [
        {
          "output_type": "stream",
          "name": "stdout",
          "text": [
            "Ciphertext: EOROROWSOMHYOLQXPOIRYLOYSEYRMISTHORZOYQGOAZLCEWGTIIRZRS\n",
            "Decrypted Message: EVENTHESTRONGESTENCRYPTIONCANBEUNDONEBYTHEFAINTESTERROR\n"
          ]
        }
      ]
    },
    {
      "cell_type": "markdown",
      "source": [
        "# Task 2"
      ],
      "metadata": {
        "id": "WxaD3SWidPBn"
      }
    },
    {
      "cell_type": "code",
      "source": [
        "# The encrpytion steps are same as mentioned in the lecture slides.\n",
        "def vigenere_encrypt(plaintext, keyword):\n",
        "    # Convert the keyword to uppercase for uniformity in processing.\n",
        "    keyword = keyword.upper()\n",
        "\n",
        "    # Repeat the keyword enough times to match the length of the plaintext.\n",
        "    # The keyword is repeated and then sliced to the exact length of the plaintext.\n",
        "    # This ensures that the keyword is applied continuously over the plaintext.\n",
        "    keyword_repeat = (keyword * (len(plaintext) // len(keyword) + 1))[:len(plaintext)]\n",
        "\n",
        "    # Initialize an empty string to hold the resulting ciphertext.\n",
        "    ciphertext = ''\n",
        "    # Loop over each character in the plaintext.\n",
        "    for i, char in enumerate(plaintext):\n",
        "        # Check if the character is alphabetic (only encrypt alphabetic characters).\n",
        "        if char.isalpha():\n",
        "            # Calculate the shift using the corresponding keyword character.\n",
        "            # 'A' (65 in ASCII) is used as the reference point for upper case letters.\n",
        "\n",
        "            # Subtracting 'A' from the keyword character gives the shift amount (0-25).\n",
        "            shift = ord(keyword_repeat[i]) - ord('A')\n",
        "            # Determine the base ASCII value: use 'A' for uppercase and 'a' for lowercase.\n",
        "            base = ord('A') if char.isupper() else ord('a')\n",
        "\n",
        "            # Encrypt the character by applying the shift (modulo 26 to wrap around the alphabet).\n",
        "            # Subtracting `base` normalizes the character to a 0-25 range, then adds the shift.\n",
        "            # The result is converted back to the character by adding `base` again.\n",
        "            ciphertext += chr((ord(char) - base + shift) % 26 + base)\n",
        "        else:\n",
        "            # If the character is non-alphabetic (e.g., space, punctuation), leave it unchanged.\n",
        "            ciphertext += char\n",
        "\n",
        "    # Return the fully encrypted ciphertext.\n",
        "    return ciphertext\n",
        "\n",
        "# Example usage:\n",
        "\n"
      ],
      "metadata": {
        "id": "INTr2AVCdQfB"
      },
      "execution_count": 1,
      "outputs": []
    },
    {
      "cell_type": "markdown",
      "source": [
        "# Part B"
      ],
      "metadata": {
        "id": "nqJOuZM4dWU1"
      }
    },
    {
      "cell_type": "code",
      "source": [
        "# The encrpyion steps are reversed for the decrption.\n",
        "def vigenere_decrypt(ciphertext, keyword):\n",
        "    # Convert the keyword to uppercase for consistent processing (same case).\n",
        "    keyword = keyword.upper()\n",
        "\n",
        "    # Repeat the keyword enough times to match the length of the ciphertext.\n",
        "    # The keyword is repeated and sliced to exactly match the length of the ciphertext.\n",
        "    keyword_repeat = (keyword * (len(ciphertext) // len(keyword) + 1))[:len(ciphertext)]\n",
        "\n",
        "    # Initialize an empty string to store the resulting plaintext (decrypted message).\n",
        "    plaintext = ''\n",
        "\n",
        "    # Loop through each character in the ciphertext.\n",
        "    for i, char in enumerate(ciphertext):\n",
        "        # Check if the character is an alphabetic letter.\n",
        "        if char.isalpha():\n",
        "            # Calculate the shift value from the corresponding keyword letter.\n",
        "            # Subtracting 'A' from the keyword letter gives the shift amount (0-25).\n",
        "            shift = ord(keyword_repeat[i]) - ord('A')\n",
        "\n",
        "            # Determine the base ASCII value: 'A' for uppercase and 'a' for lowercase letters.\n",
        "            base = ord('A') if char.isupper() else ord('a')\n",
        "\n",
        "            # Decrypt the character by reversing the shift.\n",
        "            # Subtract the shift from the encrypted letter and use modulo 26 to ensure it wraps around the alphabet.\n",
        "            # Adding 26 ensures that the result doesn't go negative (avoids underflow).\n",
        "            plaintext += chr((ord(char) - base - shift + 26) % 26 + base)\n",
        "        else:\n",
        "            # If the character is non-alphabetic (e.g., space, punctuation), leave it unchanged in the plaintext.\n",
        "            plaintext += char\n",
        "\n",
        "    # Return the fully decrypted message (plaintext).\n",
        "    return plaintext\n",
        "\n",
        "# Example usage:\n",
        "message = \"Complexity in cryptography adds layers of intrigue and security\"\n",
        "# Encrypt the message using the keyword \"SECURITY\".\n",
        "ciphertext = vigenere_encrypt(message, \"SECURITY\")\n",
        "print(f\"Ciphertext: {ciphertext}\")\n",
        "\n",
        "# Decrypt the ciphertext (previously generated) using the keyword \"SECURITY\".\n",
        "decrypted_message = vigenere_decrypt(ciphertext, \"SECURITY\")\n",
        "print(f\"Decrypted Message: {decrypted_message}\")\n",
        "\n"
      ],
      "metadata": {
        "colab": {
          "base_uri": "https://localhost:8080/"
        },
        "id": "-bUaVUT7dUVM",
        "outputId": "29c861b8-7d8c-43cc-9bba-f07bfdf27d14"
      },
      "execution_count": 2,
      "outputs": [
        {
          "output_type": "stream",
          "name": "stdout",
          "text": [
            "Ciphertext: Usojcmqglc ce vpqtvixztnzc uull deayia mx khkzbemi uel qwgwlzbr\n",
            "Decrypted Message: Complexity in cryptography adds layers of intrigue and security\n"
          ]
        }
      ]
    },
    {
      "cell_type": "markdown",
      "source": [
        "# Part C"
      ],
      "metadata": {
        "id": "Ih0Kyo6odZhy"
      }
    },
    {
      "cell_type": "code",
      "source": [
        "def vigenere_cipher():\n",
        "\n",
        "    # Continue to prompt for a valid keyword until the user provides one\n",
        "    while True:\n",
        "        message = input(\"Enter the message (alphabets only): \")  # Get the plaintext message from the user\n",
        "        if not all(c.isalpha() or c.isspace() for c in message): # Check is only alphabets or spaces\n",
        "          print(\"Invalid input. The message must contain only alphabetic characters. Please try again.\")\n",
        "        else:\n",
        "          break #End the loop only when valid plaintext is provided\n",
        "    while True:\n",
        "        keyword = input(\"Enter the keyword (alphabets only): \").upper() # Get the plaintext message from the user\n",
        "        # Validate the keyword\n",
        "        if not keyword.isalpha():# Check is only alphabets\n",
        "            print(\"Invalid input. The keyword must contain only alphabetic characters. Please try again.\")\n",
        "        else:\n",
        "          break #End the loop only when valid keyword is provided\n",
        "\n",
        "    # Encrypt the message\n",
        "    encrypted = vigenere_encrypt(message, keyword)\n",
        "    print(f\"Encrypted Message: {encrypted}\")\n",
        "\n",
        "    # Decrypt the message to verify\n",
        "    decrypted = vigenere_decrypt(encrypted, keyword)\n",
        "    print(f\"Decrypted Message: {decrypted}\")\n",
        "\n",
        "vigenere_cipher()"
      ],
      "metadata": {
        "colab": {
          "base_uri": "https://localhost:8080/"
        },
        "id": "OYiYOCT3dbbP",
        "outputId": "85f7a2d3-cc9a-4d1e-f41a-c9865798c1d0"
      },
      "execution_count": 7,
      "outputs": [
        {
          "output_type": "stream",
          "name": "stdout",
          "text": [
            "Enter the message (alphabets only): 1. Complexity in cryptography adds layers of intrigue and security\n",
            "Invalid input. The message must contain only alphabetic characters. Please try again.\n",
            "Enter the message (alphabets only): Complexity in cryptography adds layers of intrigue and security\n",
            "Enter the keyword (alphabets only): Invalid Key Example\n",
            "Invalid input. The keyword must contain only alphabetic characters. Please try again.\n",
            "Enter the keyword (alphabets only): Security\n",
            "Encrypted Message: Usojcmqglc ce vpqtvixztnzc uull deayia mx khkzbemi uel qwgwlzbr\n",
            "Decrypted Message: Complexity in cryptography adds layers of intrigue and security\n"
          ]
        }
      ]
    }
  ]
}